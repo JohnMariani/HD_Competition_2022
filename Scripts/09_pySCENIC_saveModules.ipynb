{
 "cells": [
  {
   "cell_type": "code",
   "execution_count": null,
   "metadata": {},
   "outputs": [],
   "source": [
    "import os\n",
    "import glob\n",
    "import pickle \n",
    "import pandas as pd\n",
    "import numpy as np"
   ]
  },
  {
   "cell_type": "code",
   "execution_count": null,
   "metadata": {},
   "outputs": [],
   "source": [
    "from dask.diagnostics import ProgressBar \n",
    "from arboreto.utils import load_tf_names\n",
    "from arboreto.algo import grnboost2\n",
    "from pyscenic.rnkdb import FeatherRankingDatabase as RankingDatabase\n",
    "from pyscenic.utils import modules_from_adjacencies, load_motifs \n",
    "from pyscenic.prune import prune2df, df2regulons\n",
    "from pyscenic.aucell import aucell "
   ]
  },
  {
   "cell_type": "code",
   "execution_count": null,
   "metadata": {},
   "outputs": [],
   "source": [
    "# Directory to hold results from pySCENIC\n",
    "output_folder=\"pySCENIC/outs\"\n",
    "regulons_fname=os.path.join(output_folder, \"regulons.p\")\n",
    "motifs_fname=os.path.join(output_folder, \"motifs.csv\")\n",
    "# Directory to read in database\n",
    "database_folder=\"scenic_database\"\n",
    "database_glob=os.path.join(database_folder, \"hg38__*.feather\")\n",
    "motif_annotations_fname=os.path.join(database_folder, \"motifs-v9-nr.hgnc-m0.001-o0.0.tbl\")\n",
    "hm_tfs_fname=os.path.join(database_folder, \"hs_hgnc_curated_tfs.txt\")\n",
    "# Directory to read in inputs for pySCENIC, results from 08_exportScenic\n",
    "resources_folder=\"output\"\n",
    "sc_expr_fname=\"\".join([resources_folder, \"/Competition_forScenic.csv\"])"
   ]
  },
  {
   "cell_type": "code",
   "execution_count": null,
   "metadata": {},
   "outputs": [],
   "source": [
    "# Expression matrix \n",
    "ex_matrix=pd.read_csv(sc_expr_fname, header=0, index_col=0).T\n",
    "ex_matrix.head()"
   ]
  },
  {
   "cell_type": "code",
   "execution_count": null,
   "metadata": {},
   "outputs": [],
   "source": [
    "ex_matrix.shape"
   ]
  },
  {
   "cell_type": "code",
   "execution_count": null,
   "metadata": {},
   "outputs": [],
   "source": [
    "# Transcription factors\n",
    "tf_names=load_tf_names(hm_tfs_fname)"
   ]
  },
  {
   "cell_type": "code",
   "execution_count": null,
   "metadata": {},
   "outputs": [],
   "source": [
    "# Feather files \n",
    "db_fnames=glob.glob(database_glob)\n",
    "def name(fname): \n",
    "    return os.path.basename(fname).split(\".\")[0]\n",
    "dbs=[RankingDatabase(fname=fname, name=name(fname)) for fname in db_fnames]\n",
    "dbs"
   ]
  },
  {
   "cell_type": "code",
   "execution_count": null,
   "metadata": {},
   "outputs": [],
   "source": [
    "# Run GRNBoost from arboreto to infer co-expression modules \n",
    "adjacencies=grnboost2(expression_data=ex_matrix, tf_names=tf_names, verbose=True)"
   ]
  },
  {
   "cell_type": "code",
   "execution_count": null,
   "metadata": {},
   "outputs": [],
   "source": [
    "adjacencies.to_csv(\"grnboost_out.csv\", encoding=\"utf-8\")"
   ]
  },
  {
   "cell_type": "code",
   "execution_count": null,
   "metadata": {},
   "outputs": [],
   "source": [
    "modules=list(modules_from_adjacencies(adjacencies, ex_matrix))"
   ]
  },
  {
   "cell_type": "code",
   "execution_count": null,
   "metadata": {},
   "outputs": [],
   "source": [
    "with open(\"modules.txt\", \"wb\") as fp: \n",
    "    pickle.dump(modules, fp)"
   ]
  },
  {
   "cell_type": "code",
   "execution_count": null,
   "metadata": {},
   "outputs": [],
   "source": [
    "with open(\"modules.txt\", \"rb\") as fp: \n",
    "    b=pickle.load(fp)"
   ]
  }
 ],
 "metadata": {
  "kernelspec": {
   "display_name": "scenic_protocol",
   "language": "python",
   "name": "scenic_protocol"
  },
  "language_info": {
   "codemirror_mode": {
    "name": "ipython",
    "version": 3
   },
   "file_extension": ".py",
   "mimetype": "text/x-python",
   "name": "python",
   "nbconvert_exporter": "python",
   "pygments_lexer": "ipython3",
   "version": "3.6.13"
  }
 },
 "nbformat": 4,
 "nbformat_minor": 2
}
