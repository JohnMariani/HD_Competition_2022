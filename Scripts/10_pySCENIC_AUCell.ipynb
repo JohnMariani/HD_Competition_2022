{
 "cells": [
  {
   "cell_type": "markdown",
   "metadata": {},
   "source": [
    "#### Load required packages "
   ]
  },
  {
   "cell_type": "code",
   "execution_count": null,
   "metadata": {},
   "outputs": [],
   "source": [
    "import os\n",
    "import glob\n",
    "import pickle \n",
    "import pandas as pd\n",
    "import numpy as np"
   ]
  },
  {
   "cell_type": "code",
   "execution_count": null,
   "metadata": {},
   "outputs": [],
   "source": [
    "from dask.diagnostics import ProgressBar \n",
    "from arboreto.utils import load_tf_names\n",
    "from arboreto.algo import grnboost2\n",
    "from pyscenic.rnkdb import FeatherRankingDatabase as RankingDatabase\n",
    "from pyscenic.utils import modules_from_adjacencies, load_motifs \n",
    "from pyscenic.prune import prune2df, df2regulons\n",
    "from pyscenic.aucell import aucell \n",
    "import json\n",
    "import time"
   ]
  },
  {
   "cell_type": "markdown",
   "metadata": {},
   "source": [
    "#### Define variables "
   ]
  },
  {
   "cell_type": "code",
   "execution_count": null,
   "metadata": {},
   "outputs": [],
   "source": [
    "# Directory to hold results from pySCENIC\n",
    "output_folder=\"pySCENIC/outs\"\n",
    "regulons_fname=os.path.join(output_folder, \"regulons.p\")\n",
    "motifs_fname=os.path.join(output_folder, \"motifs.csv\")\n",
    "# Directory to read in database\n",
    "database_folder=\"scenic_database\"\n",
    "database_glob=os.path.join(database_folder, \"hg38__*.feather\")\n",
    "motif_annotations_fname=os.path.join(database_folder, \"motifs-v9-nr.hgnc-m0.001-o0.0.tbl\")\n",
    "hm_tfs_fname=os.path.join(database_folder, \"hs_hgnc_curated_tfs.txt\")\n",
    "# Directory to read in inputs for pySCENIC, results from 08_exportScenic\n",
    "resources_folder=\"output\"\n",
    "sc_expr_fname=\"\".join([resources_folder, \"/Competition_forScenic.csv\"])"
   ]
  },
  {
   "cell_type": "markdown",
   "metadata": {},
   "source": [
    "### 1. Explore imported variables "
   ]
  },
  {
   "cell_type": "code",
   "execution_count": null,
   "metadata": {},
   "outputs": [],
   "source": [
    "ex_matrix=pd.read_csv(sc_expr_fname, header=0, index_col=0).T\n",
    "ex_matrix.head()"
   ]
  },
  {
   "cell_type": "code",
   "execution_count": null,
   "metadata": {},
   "outputs": [],
   "source": [
    "tf_names=load_tf_names(hm_tfs_fname)"
   ]
  },
  {
   "cell_type": "code",
   "execution_count": null,
   "metadata": {},
   "outputs": [],
   "source": [
    "ex_matrix.shape"
   ]
  },
  {
   "cell_type": "code",
   "execution_count": null,
   "metadata": {},
   "outputs": [],
   "source": [
    "db_fnames=glob.glob(database_glob)\n",
    "def name(fname): \n",
    "    return os.path.basename(fname).split(\".\")[0]\n",
    "dbs=[RankingDatabase(fname=fname, name=name(fname)) for fname in db_fnames]\n",
    "dbs"
   ]
  },
  {
   "cell_type": "code",
   "execution_count": null,
   "metadata": {},
   "outputs": [],
   "source": [
    "# Modules are loaded from pickle\n",
    "with open(\"modules.txt\", \"rb\") as fp: \n",
    "    modules=pickle.load(fp)"
   ]
  },
  {
   "cell_type": "markdown",
   "metadata": {},
   "source": [
    "### 2. Prune modules for targets whose DNA footprints to specific TFs were annotated"
   ]
  },
  {
   "cell_type": "code",
   "execution_count": null,
   "metadata": {},
   "outputs": [],
   "source": [
    "# Begining time is \n",
    "t0=time.time()\n",
    "df=prune2df(dbs, modules, motif_annotations_fname)"
   ]
  },
  {
   "cell_type": "code",
   "execution_count": null,
   "metadata": {},
   "outputs": [],
   "source": [
    "# Ending time is \n",
    "t1=time.time()\n",
    "# The total time it takes to prune modules in minutes\n",
    "(t1-t0)/60"
   ]
  },
  {
   "cell_type": "code",
   "execution_count": null,
   "metadata": {},
   "outputs": [],
   "source": [
    "# Save df \n",
    "with open(\"pruned.txt\", \"wb\") as fp: \n",
    "    pickle.dump(df, fp)"
   ]
  },
  {
   "cell_type": "code",
   "execution_count": null,
   "metadata": {},
   "outputs": [],
   "source": [
    "# Create regulons from this table of enriched motifs\n",
    "regulons=df2regulons(df)"
   ]
  },
  {
   "cell_type": "code",
   "execution_count": null,
   "metadata": {},
   "outputs": [],
   "source": [
    "# Save enriched motifs and the discovered regulons to disk \n",
    "df.to_csv(motifs_fname)\n",
    "with open(regulons_fname, \"wb\") as f: \n",
    "    pickle.dump(regulons, f)"
   ]
  },
  {
   "cell_type": "markdown",
   "metadata": {},
   "source": [
    "### 3. Export a text file of TF-target, equivalent to the RcisTarget output of R, where regulon-transcription-factor pairs are unique"
   ]
  },
  {
   "cell_type": "code",
   "execution_count": null,
   "metadata": {},
   "outputs": [],
   "source": [
    "# Write a dictionary of {TF: Target} pairs \n",
    "rdictTarget={}\n",
    "# Write a dictionary of {TF: Weight} pairs. The weight will be in the same order of Target\n",
    "rdictWeight={}\n",
    "for reg in regulons:\n",
    "  targets = [ target for target in reg.gene2weight ]\n",
    "  rdictTarget[reg.name] = targets\n",
    "  weights = [ reg.gene2weight[target] for target in reg.gene2weight]\n",
    "  rdictWeight[reg.name] = weights\n",
    "print(rdictTarget.keys())\n",
    "print(rdictWeight.keys())"
   ]
  },
  {
   "cell_type": "code",
   "execution_count": null,
   "metadata": {},
   "outputs": [],
   "source": [
    "# Write to JSON for import to R\n",
    "rjson = json.dumps(rdictTarget)\n",
    "f = open(\"regulonsTarget.json\",\"w\")\n",
    "f.write(rjson)\n",
    "f.close()\n",
    "\n",
    "rjson = json.dumps(rdictWeight)\n",
    "f = open(\"regulonsWeight.json\",\"w\")\n",
    "f.write(rjson)\n",
    "f.close()"
   ]
  },
  {
   "cell_type": "markdown",
   "metadata": {},
   "source": [
    "### 4. Export auc.txt matrix for plotting with R"
   ]
  },
  {
   "cell_type": "code",
   "execution_count": null,
   "metadata": {},
   "outputs": [],
   "source": [
    "# Discover regulons specific to subset of cells\n",
    "auc_mtx=aucell(ex_matrix, regulons, num_workers=8)"
   ]
  },
  {
   "cell_type": "code",
   "execution_count": null,
   "metadata": {},
   "outputs": [],
   "source": [
    "##### Export auc_matrix for plotting in R\n",
    "auc_mtx.to_csv(\"auc.txt\")"
   ]
  },
  {
   "cell_type": "markdown",
   "metadata": {},
   "source": [
    "# END OF SCRIPT"
   ]
  }
 ],
 "metadata": {
  "kernelspec": {
   "display_name": "Python 3 (ipykernel)",
   "language": "python",
   "name": "python3"
  },
  "language_info": {
   "codemirror_mode": {
    "name": "ipython",
    "version": 3
   },
   "file_extension": ".py",
   "mimetype": "text/x-python",
   "name": "python",
   "nbconvert_exporter": "python",
   "pygments_lexer": "ipython3",
   "version": "3.7.9"
  }
 },
 "nbformat": 4,
 "nbformat_minor": 2
}
