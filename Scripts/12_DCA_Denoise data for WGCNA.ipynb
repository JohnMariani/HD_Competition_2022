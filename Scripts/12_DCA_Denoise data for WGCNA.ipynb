{
 "cells": [
  {
   "cell_type": "markdown",
   "metadata": {},
   "source": [
    "## Denoising scRNA-seq using DCA "
   ]
  },
  {
   "cell_type": "markdown",
   "metadata": {},
   "source": [
    "### Generate AnnData object"
   ]
  },
  {
   "cell_type": "code",
   "execution_count": 1,
   "metadata": {},
   "outputs": [
    {
     "name": "stderr",
     "output_type": "stream",
     "text": [
      "/scratch/sgoldman_lab/.conda/envs/deepNN_v0.2/lib/python3.8/site-packages/anndata/core/anndata.py:17: FutureWarning: pandas.core.index is deprecated and will be removed in a future version. The public classes are available in the top-level namespace.\n",
      "  from pandas.core.index import RangeIndex\n",
      "/scratch/sgoldman_lab/.conda/envs/deepNN_v0.2/lib/python3.8/site-packages/kopt/config.py:60: YAMLLoadWarning: calling yaml.load() without Loader=... is deprecated, as the default Loader is unsafe. Please read https://msg.pyyaml.org/load for full details.\n",
      "  _config = yaml.load(open(_config_path))\n"
     ]
    }
   ],
   "source": [
    "import warnings\n",
    "import numpy as np\n",
    "import matplotlib.pyplot as plt\n",
    "import scanpy as sc\n",
    "import pandas as pd\n",
    "import anndata\n",
    "from dca.api import dca\n",
    "warnings.simplefilter(action=\"ignore\", category = FutureWarning)"
   ]
  },
  {
   "cell_type": "code",
   "execution_count": 2,
   "metadata": {},
   "outputs": [],
   "source": [
    "# Read in the cleaned data set when genes have been filtered to only keep those with total expression across the board > 1\n",
    "data = pd.read_csv(\"output/Competition_forWGCNA.csv\", index_col=0)\n",
    "cellinfo = pd.read_csv(\"output/DCA_cellInfo.csv\", index_col=0)\n",
    "geneinfo = pd.read_csv(\"output/DCA_geneInfo.csv\", index_col=0)"
   ]
  },
  {
   "cell_type": "code",
   "execution_count": 3,
   "metadata": {},
   "outputs": [],
   "source": [
    "data_T = data.transpose()"
   ]
  },
  {
   "cell_type": "code",
   "execution_count": 4,
   "metadata": {},
   "outputs": [
    {
     "name": "stdout",
     "output_type": "stream",
     "text": [
      "                    MIR1302-2HG  AL627309.1  AL627309.3  AL627309.5  \\\n",
      "TAGTGCAGTTCAAAGA_2            0           0           0           0   \n",
      "ATTGTTCCACCTATCC_2            0           0           0           0   \n",
      "AGGTCATTCATGAGTC_2            0           0           0           0   \n",
      "AAGACTCTCCTAAGTG_2            0           0           0           0   \n",
      "ACACTGAGTGTTGAGG_2            0           0           0           0   \n",
      "\n",
      "                    AP006222.2  AL732372.1  AC114498.2  AL669831.2  LINC01409  \\\n",
      "TAGTGCAGTTCAAAGA_2           0           0           0           0          0   \n",
      "ATTGTTCCACCTATCC_2           0           0           0           0          0   \n",
      "AGGTCATTCATGAGTC_2           0           0           0           0          0   \n",
      "AAGACTCTCCTAAGTG_2           0           0           0           0          0   \n",
      "ACACTGAGTGTTGAGG_2           0           0           0           0          0   \n",
      "\n",
      "                    FAM87B  ...  MT-CYB  AC136352.4  AC011043.1  AL592183.1  \\\n",
      "TAGTGCAGTTCAAAGA_2       0  ...      21           0           0           0   \n",
      "ATTGTTCCACCTATCC_2       0  ...      25           0           0           0   \n",
      "AGGTCATTCATGAGTC_2       0  ...       9           0           0           0   \n",
      "AAGACTCTCCTAAGTG_2       0  ...      23           0           0           0   \n",
      "ACACTGAGTGTTGAGG_2       0  ...      55           0           0           0   \n",
      "\n",
      "                    AC007325.4  AC007325.2  AC004556.3  AC240274.1  EGFP  \\\n",
      "TAGTGCAGTTCAAAGA_2           1           0           0           0    79   \n",
      "ATTGTTCCACCTATCC_2           0           0           0           0    48   \n",
      "AGGTCATTCATGAGTC_2           0           0           0           0    24   \n",
      "AAGACTCTCCTAAGTG_2           0           1           0           0    39   \n",
      "ACACTGAGTGTTGAGG_2           1           0           0           0    19   \n",
      "\n",
      "                    mCherry  \n",
      "TAGTGCAGTTCAAAGA_2        0  \n",
      "ATTGTTCCACCTATCC_2        0  \n",
      "AGGTCATTCATGAGTC_2        0  \n",
      "AAGACTCTCCTAAGTG_2        0  \n",
      "ACACTGAGTGTTGAGG_2        0  \n",
      "\n",
      "[5 rows x 28683 columns]\n",
      "(10410, 28683)\n"
     ]
    }
   ],
   "source": [
    "print(data_T.head())\n",
    "print(data_T.shape)"
   ]
  },
  {
   "cell_type": "code",
   "execution_count": 5,
   "metadata": {},
   "outputs": [
    {
     "name": "stdout",
     "output_type": "stream",
     "text": [
      "AnnData object with n_obs × n_vars = 10410 × 28683 \n",
      "    obs: 'SampleName', 'cellName', 'orig.ident', 'nCount_RNA', 'nFeature_RNA', 'percent.mt', 'initialCell', 'initialFluor', 'initialTransplant', 'Paradigm', 'initialGroup', 'Capture', 'initialSampleName', 'EGFP_assign', 'mCherry_assign', 'zero_assign', 'EGFP', 'mCherry', 'Cell', 'Fluorophore', 'Transplant', 'Group', 'RNA_snn_res.0.2', 'seurat_clusters', 'leiden_clusters', 'CellType', 'S.Score', 'G2M.Score', 'Phase', 'otherGroup', 'newLabel', 'ngeneson', 'X'\n",
      "    var: 'Gene', 'n_counts'\n"
     ]
    }
   ],
   "source": [
    "adata = sc.AnnData(data_T, obs=cellinfo, var = geneinfo)\n",
    "adata.obs_names = cellinfo.X\n",
    "adata.var_names = geneinfo.Gene\n",
    "sc.pp.filter_genes(adata, min_counts = 1)\n",
    "print(adata)"
   ]
  },
  {
   "cell_type": "markdown",
   "metadata": {},
   "source": [
    "### Denoise data"
   ]
  },
  {
   "cell_type": "code",
   "execution_count": 6,
   "metadata": {},
   "outputs": [
    {
     "name": "stdout",
     "output_type": "stream",
     "text": [
      "dca: Successfully preprocessed 28683 genes and 10410 cells.\n",
      "WARNING:tensorflow:From /scratch/sgoldman_lab/.conda/envs/deepNN_v0.2/lib/python3.8/site-packages/dca/train.py:41: The name tf.keras.backend.set_session is deprecated. Please use tf.compat.v1.keras.backend.set_session instead.\n",
      "\n"
     ]
    },
    {
     "name": "stderr",
     "output_type": "stream",
     "text": [
      "2022-12-14 09:33:20,213 [WARNING] From /scratch/sgoldman_lab/.conda/envs/deepNN_v0.2/lib/python3.8/site-packages/dca/train.py:41: The name tf.keras.backend.set_session is deprecated. Please use tf.compat.v1.keras.backend.set_session instead.\n",
      "\n",
      "2022-12-14 09:33:20.247400: I tensorflow/core/platform/cpu_feature_guard.cc:142] This TensorFlow binary is optimized with oneAPI Deep Neural Network Library (oneDNN) to use the following CPU instructions in performance-critical operations:  SSE4.1 SSE4.2 AVX\n",
      "To enable them in other operations, rebuild TensorFlow with the appropriate compiler flags.\n",
      "2022-12-14 09:33:21.321269: I tensorflow/compiler/mlir/mlir_graph_optimization_pass.cc:196] None of the MLIR optimization passes are enabled (registered 0 passes)\n",
      "2022-12-14 09:33:21.347312: I tensorflow/core/platform/profile_utils/cpu_utils.cc:112] CPU Frequency: 2700120000 Hz\n",
      "/scratch/sgoldman_lab/.conda/envs/deepNN_v0.2/lib/python3.8/site-packages/tensorflow/python/keras/engine/training.py:2325: UserWarning: `Model.state_updates` will be removed in a future version. This property should not be used in TensorFlow 2.0, as `updates` are applied automatically.\n",
      "  warnings.warn('`Model.state_updates` will be removed in a future version. '\n"
     ]
    },
    {
     "name": "stdout",
     "output_type": "stream",
     "text": [
      "dca: Calculating reconstructions...\n",
      "CPU times: user 49min 23s, sys: 47.5 s, total: 50min 10s\n",
      "Wall time: 51min 10s\n"
     ]
    }
   ],
   "source": [
    "%%time\n",
    "adata_ae=adata.copy()\n",
    "dca(adata_ae, threads = 1, mode=\"denoise\")"
   ]
  },
  {
   "cell_type": "code",
   "execution_count": 7,
   "metadata": {},
   "outputs": [],
   "source": [
    "for i in [adata, adata_ae]:\n",
    "    sc.pp.normalize_per_cell(i)\n",
    "    sc.pp.log1p(i)\n",
    "    sc.pp.pca(i)"
   ]
  },
  {
   "cell_type": "code",
   "execution_count": 8,
   "metadata": {},
   "outputs": [
    {
     "name": "stdout",
     "output_type": "stream",
     "text": [
      "AnnData object with n_obs × n_vars = 10410 × 28683 \n",
      "    obs: 'SampleName', 'cellName', 'orig.ident', 'nCount_RNA', 'nFeature_RNA', 'percent.mt', 'initialCell', 'initialFluor', 'initialTransplant', 'Paradigm', 'initialGroup', 'Capture', 'initialSampleName', 'EGFP_assign', 'mCherry_assign', 'zero_assign', 'EGFP', 'mCherry', 'Cell', 'Fluorophore', 'Transplant', 'Group', 'RNA_snn_res.0.2', 'seurat_clusters', 'leiden_clusters', 'CellType', 'S.Score', 'G2M.Score', 'Phase', 'otherGroup', 'newLabel', 'ngeneson', 'X', 'n_counts'\n",
      "    var: 'Gene', 'n_counts'\n",
      "    uns: 'pca'\n",
      "    obsm: 'X_pca'\n",
      "    varm: 'PCs'\n"
     ]
    }
   ],
   "source": [
    "print(adata)"
   ]
  },
  {
   "cell_type": "code",
   "execution_count": 13,
   "metadata": {},
   "outputs": [],
   "source": [
    "df_ae = pd.DataFrame(data=adata_ae.X.transpose(), index = adata_ae.var_names, columns=adata_ae.obs_names)"
   ]
  },
  {
   "cell_type": "code",
   "execution_count": 14,
   "metadata": {},
   "outputs": [
    {
     "data": {
      "text/html": [
       "<div>\n",
       "<style scoped>\n",
       "    .dataframe tbody tr th:only-of-type {\n",
       "        vertical-align: middle;\n",
       "    }\n",
       "\n",
       "    .dataframe tbody tr th {\n",
       "        vertical-align: top;\n",
       "    }\n",
       "\n",
       "    .dataframe thead th {\n",
       "        text-align: right;\n",
       "    }\n",
       "</style>\n",
       "<table border=\"1\" class=\"dataframe\">\n",
       "  <thead>\n",
       "    <tr style=\"text-align: right;\">\n",
       "      <th>X</th>\n",
       "      <th>TAGTGCAGTTCAAAGA_2</th>\n",
       "      <th>ATTGTTCCACCTATCC_2</th>\n",
       "      <th>AGGTCATTCATGAGTC_2</th>\n",
       "      <th>AAGACTCTCCTAAGTG_2</th>\n",
       "      <th>ACACTGAGTGTTGAGG_2</th>\n",
       "      <th>TAATTCCAGATAGCTA_2</th>\n",
       "      <th>AAACGCTCACCCTAGG_2</th>\n",
       "      <th>CCGATGGGTAACATGA_2</th>\n",
       "      <th>ATTGGGTTCGCCACTT_2</th>\n",
       "      <th>ACCACAAAGACTTCGT_2</th>\n",
       "      <th>...</th>\n",
       "      <th>CCATCACGTGATTGGG_14</th>\n",
       "      <th>CTGAGCGGTGATGAAT_14</th>\n",
       "      <th>TAACGACAGTGTACCT_14</th>\n",
       "      <th>AAGCGAGGTCTCAGGC_14</th>\n",
       "      <th>GGGTGAAGTATTCTCT_14</th>\n",
       "      <th>GACTCTCAGGGTCTTT_14</th>\n",
       "      <th>GAGGGTATCCTCAGAA_14</th>\n",
       "      <th>TTTCACATCACGAACT_14</th>\n",
       "      <th>CTTGATTAGAGAGGGC_14</th>\n",
       "      <th>ATAGACCCAGAACTAA_14</th>\n",
       "    </tr>\n",
       "    <tr>\n",
       "      <th>Gene</th>\n",
       "      <th></th>\n",
       "      <th></th>\n",
       "      <th></th>\n",
       "      <th></th>\n",
       "      <th></th>\n",
       "      <th></th>\n",
       "      <th></th>\n",
       "      <th></th>\n",
       "      <th></th>\n",
       "      <th></th>\n",
       "      <th></th>\n",
       "      <th></th>\n",
       "      <th></th>\n",
       "      <th></th>\n",
       "      <th></th>\n",
       "      <th></th>\n",
       "      <th></th>\n",
       "      <th></th>\n",
       "      <th></th>\n",
       "      <th></th>\n",
       "      <th></th>\n",
       "    </tr>\n",
       "  </thead>\n",
       "  <tbody>\n",
       "    <tr>\n",
       "      <th>MIR1302-2HG</th>\n",
       "      <td>0.000624</td>\n",
       "      <td>0.000368</td>\n",
       "      <td>0.000424</td>\n",
       "      <td>0.000234</td>\n",
       "      <td>0.000528</td>\n",
       "      <td>0.000313</td>\n",
       "      <td>0.002611</td>\n",
       "      <td>0.000276</td>\n",
       "      <td>0.001413</td>\n",
       "      <td>0.000587</td>\n",
       "      <td>...</td>\n",
       "      <td>0.001751</td>\n",
       "      <td>0.000678</td>\n",
       "      <td>0.000673</td>\n",
       "      <td>0.000459</td>\n",
       "      <td>0.000788</td>\n",
       "      <td>0.000979</td>\n",
       "      <td>0.000804</td>\n",
       "      <td>0.000910</td>\n",
       "      <td>0.001220</td>\n",
       "      <td>0.002423</td>\n",
       "    </tr>\n",
       "    <tr>\n",
       "      <th>AL627309.1</th>\n",
       "      <td>0.002232</td>\n",
       "      <td>0.001378</td>\n",
       "      <td>0.001294</td>\n",
       "      <td>0.000576</td>\n",
       "      <td>0.000957</td>\n",
       "      <td>0.000365</td>\n",
       "      <td>0.015789</td>\n",
       "      <td>0.000562</td>\n",
       "      <td>0.007424</td>\n",
       "      <td>0.000765</td>\n",
       "      <td>...</td>\n",
       "      <td>0.009037</td>\n",
       "      <td>0.002327</td>\n",
       "      <td>0.002396</td>\n",
       "      <td>0.000779</td>\n",
       "      <td>0.002484</td>\n",
       "      <td>0.003040</td>\n",
       "      <td>0.001614</td>\n",
       "      <td>0.003930</td>\n",
       "      <td>0.005092</td>\n",
       "      <td>0.015032</td>\n",
       "    </tr>\n",
       "    <tr>\n",
       "      <th>AL627309.3</th>\n",
       "      <td>0.000496</td>\n",
       "      <td>0.000333</td>\n",
       "      <td>0.000348</td>\n",
       "      <td>0.000176</td>\n",
       "      <td>0.000407</td>\n",
       "      <td>0.000218</td>\n",
       "      <td>0.003060</td>\n",
       "      <td>0.000188</td>\n",
       "      <td>0.001515</td>\n",
       "      <td>0.000374</td>\n",
       "      <td>...</td>\n",
       "      <td>0.001943</td>\n",
       "      <td>0.000563</td>\n",
       "      <td>0.000566</td>\n",
       "      <td>0.000320</td>\n",
       "      <td>0.000739</td>\n",
       "      <td>0.000715</td>\n",
       "      <td>0.000694</td>\n",
       "      <td>0.000859</td>\n",
       "      <td>0.001077</td>\n",
       "      <td>0.002988</td>\n",
       "    </tr>\n",
       "    <tr>\n",
       "      <th>AL627309.5</th>\n",
       "      <td>0.005625</td>\n",
       "      <td>0.009217</td>\n",
       "      <td>0.003767</td>\n",
       "      <td>0.002041</td>\n",
       "      <td>0.003323</td>\n",
       "      <td>0.001002</td>\n",
       "      <td>0.050502</td>\n",
       "      <td>0.001270</td>\n",
       "      <td>0.037291</td>\n",
       "      <td>0.003946</td>\n",
       "      <td>...</td>\n",
       "      <td>0.011921</td>\n",
       "      <td>0.006742</td>\n",
       "      <td>0.006889</td>\n",
       "      <td>0.004011</td>\n",
       "      <td>0.012304</td>\n",
       "      <td>0.011661</td>\n",
       "      <td>0.005081</td>\n",
       "      <td>0.016676</td>\n",
       "      <td>0.012863</td>\n",
       "      <td>0.019926</td>\n",
       "    </tr>\n",
       "    <tr>\n",
       "      <th>AP006222.2</th>\n",
       "      <td>0.000598</td>\n",
       "      <td>0.000404</td>\n",
       "      <td>0.000426</td>\n",
       "      <td>0.000183</td>\n",
       "      <td>0.000447</td>\n",
       "      <td>0.000197</td>\n",
       "      <td>0.003142</td>\n",
       "      <td>0.000247</td>\n",
       "      <td>0.001745</td>\n",
       "      <td>0.000418</td>\n",
       "      <td>...</td>\n",
       "      <td>0.002330</td>\n",
       "      <td>0.000721</td>\n",
       "      <td>0.000749</td>\n",
       "      <td>0.000311</td>\n",
       "      <td>0.000910</td>\n",
       "      <td>0.000760</td>\n",
       "      <td>0.000805</td>\n",
       "      <td>0.001073</td>\n",
       "      <td>0.001385</td>\n",
       "      <td>0.003124</td>\n",
       "    </tr>\n",
       "  </tbody>\n",
       "</table>\n",
       "<p>5 rows × 10410 columns</p>\n",
       "</div>"
      ],
      "text/plain": [
       "X            TAGTGCAGTTCAAAGA_2  ATTGTTCCACCTATCC_2  AGGTCATTCATGAGTC_2  \\\n",
       "Gene                                                                      \n",
       "MIR1302-2HG            0.000624            0.000368            0.000424   \n",
       "AL627309.1             0.002232            0.001378            0.001294   \n",
       "AL627309.3             0.000496            0.000333            0.000348   \n",
       "AL627309.5             0.005625            0.009217            0.003767   \n",
       "AP006222.2             0.000598            0.000404            0.000426   \n",
       "\n",
       "X            AAGACTCTCCTAAGTG_2  ACACTGAGTGTTGAGG_2  TAATTCCAGATAGCTA_2  \\\n",
       "Gene                                                                      \n",
       "MIR1302-2HG            0.000234            0.000528            0.000313   \n",
       "AL627309.1             0.000576            0.000957            0.000365   \n",
       "AL627309.3             0.000176            0.000407            0.000218   \n",
       "AL627309.5             0.002041            0.003323            0.001002   \n",
       "AP006222.2             0.000183            0.000447            0.000197   \n",
       "\n",
       "X            AAACGCTCACCCTAGG_2  CCGATGGGTAACATGA_2  ATTGGGTTCGCCACTT_2  \\\n",
       "Gene                                                                      \n",
       "MIR1302-2HG            0.002611            0.000276            0.001413   \n",
       "AL627309.1             0.015789            0.000562            0.007424   \n",
       "AL627309.3             0.003060            0.000188            0.001515   \n",
       "AL627309.5             0.050502            0.001270            0.037291   \n",
       "AP006222.2             0.003142            0.000247            0.001745   \n",
       "\n",
       "X            ACCACAAAGACTTCGT_2  ...  CCATCACGTGATTGGG_14  \\\n",
       "Gene                             ...                        \n",
       "MIR1302-2HG            0.000587  ...             0.001751   \n",
       "AL627309.1             0.000765  ...             0.009037   \n",
       "AL627309.3             0.000374  ...             0.001943   \n",
       "AL627309.5             0.003946  ...             0.011921   \n",
       "AP006222.2             0.000418  ...             0.002330   \n",
       "\n",
       "X            CTGAGCGGTGATGAAT_14  TAACGACAGTGTACCT_14  AAGCGAGGTCTCAGGC_14  \\\n",
       "Gene                                                                         \n",
       "MIR1302-2HG             0.000678             0.000673             0.000459   \n",
       "AL627309.1              0.002327             0.002396             0.000779   \n",
       "AL627309.3              0.000563             0.000566             0.000320   \n",
       "AL627309.5              0.006742             0.006889             0.004011   \n",
       "AP006222.2              0.000721             0.000749             0.000311   \n",
       "\n",
       "X            GGGTGAAGTATTCTCT_14  GACTCTCAGGGTCTTT_14  GAGGGTATCCTCAGAA_14  \\\n",
       "Gene                                                                         \n",
       "MIR1302-2HG             0.000788             0.000979             0.000804   \n",
       "AL627309.1              0.002484             0.003040             0.001614   \n",
       "AL627309.3              0.000739             0.000715             0.000694   \n",
       "AL627309.5              0.012304             0.011661             0.005081   \n",
       "AP006222.2              0.000910             0.000760             0.000805   \n",
       "\n",
       "X            TTTCACATCACGAACT_14  CTTGATTAGAGAGGGC_14  ATAGACCCAGAACTAA_14  \n",
       "Gene                                                                        \n",
       "MIR1302-2HG             0.000910             0.001220             0.002423  \n",
       "AL627309.1              0.003930             0.005092             0.015032  \n",
       "AL627309.3              0.000859             0.001077             0.002988  \n",
       "AL627309.5              0.016676             0.012863             0.019926  \n",
       "AP006222.2              0.001073             0.001385             0.003124  \n",
       "\n",
       "[5 rows x 10410 columns]"
      ]
     },
     "execution_count": 14,
     "metadata": {},
     "output_type": "execute_result"
    }
   ],
   "source": [
    "df_ae.head()"
   ]
  },
  {
   "cell_type": "code",
   "execution_count": 15,
   "metadata": {},
   "outputs": [],
   "source": [
    "df_ae.to_csv(\"output/Denoised_Competition_matrix.csv\")"
   ]
  },
  {
   "cell_type": "markdown",
   "metadata": {},
   "source": [
    "## END OF FILE"
   ]
  }
 ],
 "metadata": {
  "kernelspec": {
   "display_name": "Spawned_Python3",
   "language": "python",
   "name": "my_jupyter_spawn"
  },
  "language_info": {
   "codemirror_mode": {
    "name": "ipython",
    "version": 3
   },
   "file_extension": ".py",
   "mimetype": "text/x-python",
   "name": "python",
   "nbconvert_exporter": "python",
   "pygments_lexer": "ipython3",
   "version": "3.7.12"
  }
 },
 "nbformat": 4,
 "nbformat_minor": 2
}
